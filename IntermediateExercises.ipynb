{
  "nbformat": 4,
  "nbformat_minor": 0,
  "metadata": {
    "colab": {
      "provenance": [],
      "authorship_tag": "ABX9TyPrgktvDHJR1Xw4fT37UpkD",
      "include_colab_link": true
    },
    "kernelspec": {
      "name": "python3",
      "display_name": "Python 3"
    },
    "language_info": {
      "name": "python"
    }
  },
  "cells": [
    {
      "cell_type": "markdown",
      "metadata": {
        "id": "view-in-github",
        "colab_type": "text"
      },
      "source": [
        "<a href=\"https://colab.research.google.com/github/beyzanurbayir/PythonProjects/blob/master/IntermediateExercises.ipynb\" target=\"_parent\"><img src=\"https://colab.research.google.com/assets/colab-badge.svg\" alt=\"Open In Colab\"/></a>"
      ]
    },
    {
      "cell_type": "markdown",
      "source": [
        "# HATA İŞLEME\n",
        "Kullanıcıdan iki sayı girmesini istenecektir ve bu sayılar bölme işlemine tabi tutulacaktır. Bölme işleminde oluşabilecek hataları (sıfıra bölme ve geçersiz girişler) göz önünde bulunudurulacaktır."
      ],
      "metadata": {
        "id": "vfEwZ7Hi3gh1"
      }
    },
    {
      "cell_type": "code",
      "execution_count": 4,
      "metadata": {
        "colab": {
          "base_uri": "https://localhost:8080/"
        },
        "id": "oK0yuaAvwKHm",
        "outputId": "c34abb73-4d0a-408e-d092-aa80d731efb8"
      },
      "outputs": [
        {
          "output_type": "stream",
          "name": "stdout",
          "text": [
            "Birinci sayıyı giriniz: 5\n",
            "İkinci sayıyı girniz: 2\n",
            "2.5\n"
          ]
        }
      ],
      "source": [
        "try:\n",
        "  sayi1= float(input(\"Birinci sayıyı giriniz: \"))\n",
        "  sayi2= float(input(\"İkinci sayıyı girniz: \"))\n",
        "\n",
        "  print(sayi1/sayi2)\n",
        "\n",
        "except ZeroDivisionError:\n",
        "  print(\"Sıfıra bölme hatası\")\n",
        "\n",
        "except ValueError:\n",
        "  print(\"Geçersiz giriş\")"
      ]
    },
    {
      "cell_type": "markdown",
      "source": [
        "# LAMBDA FONKSİYONU İLE FİLTRELEME\n",
        "Bir listede belirli şartlara göre filtreleme işlemleri yapılacaktır"
      ],
      "metadata": {
        "id": "WCq5LWbB5g6E"
      }
    },
    {
      "cell_type": "code",
      "source": [
        "numbers=[1,2,3,4,5,6,7,8,9]\n",
        "result=filter(lambda x: x%2==0,numbers)\n",
        "print(result)"
      ],
      "metadata": {
        "colab": {
          "base_uri": "https://localhost:8080/"
        },
        "id": "v3LMALmm7D4J",
        "outputId": "d880c9a2-6f7e-467c-ba4c-7e16ae81311b"
      },
      "execution_count": 5,
      "outputs": [
        {
          "output_type": "stream",
          "name": "stdout",
          "text": [
            "<filter object at 0x790703449570>\n"
          ]
        }
      ]
    },
    {
      "cell_type": "code",
      "source": [
        "names=['Beyza','Nisanur','Ece']\n",
        "result=list(filter(lambda x: x[0]=='B',names))\n",
        "print(result)"
      ],
      "metadata": {
        "colab": {
          "base_uri": "https://localhost:8080/"
        },
        "id": "GytpZ-g4JWPt",
        "outputId": "5708a2a9-da3b-4059-b90d-47c01360e028"
      },
      "execution_count": 15,
      "outputs": [
        {
          "output_type": "stream",
          "name": "stdout",
          "text": [
            "['Beyza']\n"
          ]
        }
      ]
    },
    {
      "cell_type": "code",
      "source": [
        "fruit=['apple','banana','cherry','kiwi','mango']\n",
        "result=list(filter(lambda x:len(x)>5,fruit))\n",
        "print(result)"
      ],
      "metadata": {
        "colab": {
          "base_uri": "https://localhost:8080/"
        },
        "id": "2J5VFUcYKh33",
        "outputId": "b6fc4fb9-7df8-4d7b-e24d-102e789de915"
      },
      "execution_count": 11,
      "outputs": [
        {
          "output_type": "stream",
          "name": "stdout",
          "text": [
            "['banana', 'cherry']\n"
          ]
        }
      ]
    },
    {
      "cell_type": "code",
      "source": [
        "liste1= [1,3,5,7,9]\n",
        "liste2= [0,2,4,6,8]\n",
        "result= list(map(lambda x,y: (x+y)**2, liste1,liste2))\n",
        "print(result)"
      ],
      "metadata": {
        "colab": {
          "base_uri": "https://localhost:8080/"
        },
        "id": "CEIjK0-qLxJv",
        "outputId": "b8cc746c-47e7-4feb-f8e8-db2d7aeff500"
      },
      "execution_count": 14,
      "outputs": [
        {
          "output_type": "stream",
          "name": "stdout",
          "text": [
            "[1, 25, 81, 169, 289]\n"
          ]
        }
      ]
    },
    {
      "cell_type": "code",
      "source": [
        "def myFunc1(n):\n",
        "  return n**3\n",
        "\n",
        "def myFunc2(n):\n",
        "  return n+2\n",
        "\n",
        "numbers=[1,3,7,16,22]\n",
        "result = list(map(lambda x: myFunc1(myFunc2(x)),numbers ))\n",
        "print(result)"
      ],
      "metadata": {
        "colab": {
          "base_uri": "https://localhost:8080/"
        },
        "id": "rhr-rHuRM0Ri",
        "outputId": "159e6510-827f-49b1-993e-e07c8e572abd"
      },
      "execution_count": 20,
      "outputs": [
        {
          "output_type": "stream",
          "name": "stdout",
          "text": [
            "[27, 125, 729, 5832, 13824]\n"
          ]
        }
      ]
    },
    {
      "cell_type": "code",
      "source": [
        "class Worker:\n",
        "  def __init__(self, name,department):\n",
        "    self.name= name\n",
        "    self.department= department\n",
        "  def introduce(self):\n",
        "    return f\"Merhaba benim adım {self.name}. Ben {self.department} departamnında çalışıyorum\"\n",
        "\n",
        "people=[Worker('Ali','İnsan kayankaları'), Worker('Ayşe','IT'), Worker('Fatma','Muhasebe')]\n",
        "\n",
        "intro= list(map(Worker.introduce,people))\n",
        "for i in intro:\n",
        "  print(i)"
      ],
      "metadata": {
        "colab": {
          "base_uri": "https://localhost:8080/"
        },
        "id": "1EkCkPyaQYV_",
        "outputId": "31f810ff-367f-4577-e3a3-0f34517ef622"
      },
      "execution_count": 22,
      "outputs": [
        {
          "output_type": "stream",
          "name": "stdout",
          "text": [
            "Merhaba benim adım Ali. Ben İnsan kayankaları departamnında çalışıyorum\n",
            "Merhaba benim adım Ayşe. Ben IT departamnında çalışıyorum\n",
            "Merhaba benim adım Fatma. Ben Muhasebe departamnında çalışıyorum\n"
          ]
        }
      ]
    }
  ]
}