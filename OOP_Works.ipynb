{
  "nbformat": 4,
  "nbformat_minor": 0,
  "metadata": {
    "colab": {
      "provenance": [],
      "authorship_tag": "ABX9TyOhN+IVUq5uwjaysbeTjh3Q",
      "include_colab_link": true
    },
    "kernelspec": {
      "name": "python3",
      "display_name": "Python 3"
    },
    "language_info": {
      "name": "python"
    }
  },
  "cells": [
    {
      "cell_type": "markdown",
      "metadata": {
        "id": "view-in-github",
        "colab_type": "text"
      },
      "source": [
        "<a href=\"https://colab.research.google.com/github/beyzanurbayir/PythonProjects/blob/master/OOP_Works.ipynb\" target=\"_parent\"><img src=\"https://colab.research.google.com/assets/colab-badge.svg\" alt=\"Open In Colab\"/></a>"
      ]
    },
    {
      "cell_type": "markdown",
      "source": [
        "Sınıf ve Nesne Oluşturma:\n",
        "\n",
        "1) Bir Araba sınıfı oluşturun. Araba sınıfının özellikleri marka, model, yıl olsun. Arabanın hızını artıran ve hızını gösteren metodlarını ekleyin."
      ],
      "metadata": {
        "id": "TCmWk4xzmd-V"
      }
    },
    {
      "cell_type": "code",
      "source": [
        "class araba:\n",
        "  def __init__(self, marka, model, yil, hız):\n",
        "    self.marka = marka\n",
        "    self.model = model\n",
        "    self.yil = yil\n",
        "    self.hız = hız\n",
        "\n",
        "  def hız_artır(self, hız):\n",
        "    self.hız += hız\n",
        "    return self.hız\n"
      ],
      "metadata": {
        "id": "Z-9fKxoqmkGH"
      },
      "execution_count": null,
      "outputs": []
    },
    {
      "cell_type": "code",
      "source": [
        "araba_objesi = araba(\"Toyota\",\"x\",2000,50)"
      ],
      "metadata": {
        "id": "HVtcG0XcoOLW"
      },
      "execution_count": null,
      "outputs": []
    },
    {
      "cell_type": "code",
      "source": [
        "araba_objesi.marka"
      ],
      "metadata": {
        "colab": {
          "base_uri": "https://localhost:8080/",
          "height": 36
        },
        "id": "1458o3MFnX4U",
        "outputId": "4d5c07c3-9ad6-4069-a7a7-60e54b628f2a"
      },
      "execution_count": null,
      "outputs": [
        {
          "output_type": "execute_result",
          "data": {
            "text/plain": [
              "'Toyota'"
            ],
            "application/vnd.google.colaboratory.intrinsic+json": {
              "type": "string"
            }
          },
          "metadata": {},
          "execution_count": 3
        }
      ]
    },
    {
      "cell_type": "code",
      "source": [
        "araba_objesi.hız"
      ],
      "metadata": {
        "colab": {
          "base_uri": "https://localhost:8080/"
        },
        "id": "aVY565vQ3VnV",
        "outputId": "134033f6-60a7-402e-c293-2a03e046f082"
      },
      "execution_count": null,
      "outputs": [
        {
          "output_type": "execute_result",
          "data": {
            "text/plain": [
              "50"
            ]
          },
          "metadata": {},
          "execution_count": 5
        }
      ]
    },
    {
      "cell_type": "code",
      "source": [
        "araba_objesi.hız_artır(20)"
      ],
      "metadata": {
        "colab": {
          "base_uri": "https://localhost:8080/"
        },
        "id": "5AMeAIBb3v5T",
        "outputId": "ac6d380a-f562-4bf5-83c2-3f174803bf58"
      },
      "execution_count": null,
      "outputs": [
        {
          "output_type": "execute_result",
          "data": {
            "text/plain": [
              "70"
            ]
          },
          "metadata": {},
          "execution_count": 6
        }
      ]
    },
    {
      "cell_type": "markdown",
      "source": [
        "Kalıtım (Inheritance):\n",
        "\n",
        "1) Bir Ana sınıf (Örneğin: Canlılar) oluşturun ve bu sınıftan türetilmiş Alt sınıflar (Örneğin: Hayvanlar, Bitkiler) oluşturun. Her bir alt sınıfın kendi özellikleri ve metotları olsun."
      ],
      "metadata": {
        "id": "h-RQ4-gG3695"
      }
    },
    {
      "cell_type": "code",
      "source": [
        "class Canlilar:\n",
        "  def __init__(self,isim,yas):\n",
        "    self.isim=isim\n",
        "    self.yas=yas\n",
        "\n",
        "class Hayvanlar(Canlilar):\n",
        "  def __init__(self,isim,yas,cins):\n",
        "    super().__init__(isim,yas)\n",
        "    self.cins=cins\n",
        "\n",
        "  def tanit(self):\n",
        "    return f\"Bu hayvan bir {self.isim} ve yaşı {self.yas}, cinsi de {self.cins}\"\n",
        "\n",
        "class Bitkiler(Canlilar):\n",
        "  def __init__(self,isim,yas,rengi):\n",
        "    super().__init__(isim,yas)\n",
        "    self.rengi=rengi\n",
        "  def tanit(self):\n",
        "    return f\"Bu bitki bir tür {self.isim} ve yaşı {self.yas}, ayrıca rengi de {self.rengi}\"\n"
      ],
      "metadata": {
        "id": "AckoVgyy4Bst"
      },
      "execution_count": null,
      "outputs": []
    },
    {
      "cell_type": "code",
      "source": [
        "hayvan_objesi=Hayvanlar(\"Köpek\",\"3\",\"Kurt Köpeği\")"
      ],
      "metadata": {
        "id": "YmV_LHn06n7s"
      },
      "execution_count": null,
      "outputs": []
    },
    {
      "cell_type": "code",
      "source": [
        "hayvan_objesi.isim"
      ],
      "metadata": {
        "colab": {
          "base_uri": "https://localhost:8080/",
          "height": 36
        },
        "id": "y368dpSJ66-N",
        "outputId": "67e0d98f-23c3-4533-bcbf-6458817f3d8a"
      },
      "execution_count": null,
      "outputs": [
        {
          "output_type": "execute_result",
          "data": {
            "text/plain": [
              "'Köpek'"
            ],
            "application/vnd.google.colaboratory.intrinsic+json": {
              "type": "string"
            }
          },
          "metadata": {},
          "execution_count": 25
        }
      ]
    },
    {
      "cell_type": "code",
      "source": [
        "hayvan_objesi.tanit()"
      ],
      "metadata": {
        "colab": {
          "base_uri": "https://localhost:8080/",
          "height": 36
        },
        "id": "SDxsnRZ17qUC",
        "outputId": "e42182e5-2f5d-4ec4-893c-4d0a1337106b"
      },
      "execution_count": null,
      "outputs": [
        {
          "output_type": "execute_result",
          "data": {
            "text/plain": [
              "'Bu hayvan bir Köpek ve yaşı 3, cinsi de Kurt Köpeği'"
            ],
            "application/vnd.google.colaboratory.intrinsic+json": {
              "type": "string"
            }
          },
          "metadata": {},
          "execution_count": 26
        }
      ]
    },
    {
      "cell_type": "code",
      "source": [
        "bitki_objesi=Bitkiler(\"Çiçek\",\"2\",\"Kırmızı\")"
      ],
      "metadata": {
        "id": "hdl1hx45B2yT"
      },
      "execution_count": null,
      "outputs": []
    },
    {
      "cell_type": "code",
      "source": [
        "bitki_objesi.isim"
      ],
      "metadata": {
        "colab": {
          "base_uri": "https://localhost:8080/",
          "height": 36
        },
        "id": "2YlWPHvMCHli",
        "outputId": "637f4873-fd9f-4fc9-fb67-baff9afc2688"
      },
      "execution_count": null,
      "outputs": [
        {
          "output_type": "execute_result",
          "data": {
            "text/plain": [
              "'Çiçek'"
            ],
            "application/vnd.google.colaboratory.intrinsic+json": {
              "type": "string"
            }
          },
          "metadata": {},
          "execution_count": 32
        }
      ]
    },
    {
      "cell_type": "code",
      "source": [
        "bitki_objesi.tanit()"
      ],
      "metadata": {
        "colab": {
          "base_uri": "https://localhost:8080/",
          "height": 36
        },
        "id": "0ijB9bXVCOtL",
        "outputId": "b24be6a3-53e9-4362-9792-cc9b50cbfd7a"
      },
      "execution_count": null,
      "outputs": [
        {
          "output_type": "execute_result",
          "data": {
            "text/plain": [
              "'Bu bitki bir tür Çiçek ve yaşı 2, ayrıca rengi de Kırmızı'"
            ],
            "application/vnd.google.colaboratory.intrinsic+json": {
              "type": "string"
            }
          },
          "metadata": {},
          "execution_count": 35
        }
      ]
    },
    {
      "cell_type": "markdown",
      "source": [
        "Polimorfizm:\n",
        "\n",
        "1) Bir Hayvan sınıfı oluşturun ve bu sınıftan türetilmiş farklı hayvan türleri (Örneğin: Kedi, Köpek, Kuş) oluşturun. Her bir hayvanın kendi `ses_cikar()` metodu olsun ve bu metotları çağırarak farklı hayvanların seslerini gösterin.\n"
      ],
      "metadata": {
        "id": "BHr-cz25CrNT"
      }
    },
    {
      "cell_type": "code",
      "source": [
        "class Hayvan:\n",
        "  def __init__(self,isim):\n",
        "    self.isim=isim\n",
        "  def ses_cikar(self):\n",
        "    print(\"Hayvanın sesi: \")\n",
        "\n",
        "class Kedi(Hayvan):\n",
        "  def ses_cikar(self):\n",
        "    print(\"Miyav\")\n",
        "class Köpek(Hayvan):\n",
        "  def ses_cikar(self):\n",
        "    print(\"Hav hav\")\n",
        "class Kuş(Hayvan):\n",
        "  def ses_cikar(self):\n",
        "    print(\"cik cik\")"
      ],
      "metadata": {
        "id": "e3w1TiczCs7t"
      },
      "execution_count": null,
      "outputs": []
    },
    {
      "cell_type": "code",
      "source": [
        "kedi_instance = Kedi(\"Tekir\")\n",
        "kedi_instance.ses_cikar()"
      ],
      "metadata": {
        "colab": {
          "base_uri": "https://localhost:8080/"
        },
        "id": "wbJN64W7EQfR",
        "outputId": "3a86ccc7-7a65-4cc0-8565-2ef3c5cdc7f2"
      },
      "execution_count": null,
      "outputs": [
        {
          "output_type": "stream",
          "name": "stdout",
          "text": [
            "Miyav\n"
          ]
        }
      ]
    },
    {
      "cell_type": "code",
      "source": [
        "kopek_instance = Köpek(\"Karabaş\")\n",
        "kopek_instance.ses_cikar()"
      ],
      "metadata": {
        "colab": {
          "base_uri": "https://localhost:8080/"
        },
        "id": "ltr2nqybEj18",
        "outputId": "9331a511-07a3-4bc7-ab75-9baadbe5a7e2"
      },
      "execution_count": null,
      "outputs": [
        {
          "output_type": "stream",
          "name": "stdout",
          "text": [
            "Hav hav\n"
          ]
        }
      ]
    },
    {
      "cell_type": "code",
      "source": [
        "kus_instance=Kuş(\"Cikcik\")\n",
        "kus_instance.ses_cikar()"
      ],
      "metadata": {
        "colab": {
          "base_uri": "https://localhost:8080/"
        },
        "id": "URMeyA8dFHkC",
        "outputId": "66f3414f-da16-4954-a1e0-6bac10d9d218"
      },
      "execution_count": null,
      "outputs": [
        {
          "output_type": "stream",
          "name": "stdout",
          "text": [
            "cik cik\n"
          ]
        }
      ]
    },
    {
      "cell_type": "code",
      "source": [
        "hayvanlar = [Kedi(\"Tekir\"), Köpek(\"Karabaş\"), Kuş(\"Cikcik\")]\n"
      ],
      "metadata": {
        "id": "jz5p27XhFxGV"
      },
      "execution_count": null,
      "outputs": []
    },
    {
      "cell_type": "code",
      "source": [
        "\n",
        "for hayvan in hayvanlar:\n",
        "    print(f\"{hayvan.isim} isimli hayvan şu sesi çıkarır:\")\n",
        "    hayvan.ses_cikar()"
      ],
      "metadata": {
        "colab": {
          "base_uri": "https://localhost:8080/"
        },
        "id": "MpKTZf4dGgN2",
        "outputId": "bda1613b-93e1-43ef-e632-275edc69ccc7"
      },
      "execution_count": null,
      "outputs": [
        {
          "output_type": "stream",
          "name": "stdout",
          "text": [
            "Tekir isimli hayvan şu sesi çıkarır:\n",
            "Miyav\n",
            "Karabaş isimli hayvan şu sesi çıkarır:\n",
            "Hav hav\n",
            "Cikcik isimli hayvan şu sesi çıkarır:\n",
            "cik cik\n"
          ]
        }
      ]
    },
    {
      "cell_type": "markdown",
      "source": [
        "2)  Bir Çalışanlar sınıfı oluşturun ve bu sınıftan türetilmiş farklı çalışanlar(Örneğin: Yazılımcı, yönetici) oluşturun. Her bir çalışanın maaşını **maas_hesapla()** metodu ile hesapla"
      ],
      "metadata": {
        "id": "rCSdyFB_KSpt"
      }
    },
    {
      "cell_type": "code",
      "source": [
        "class Calisanlar:\n",
        "  def __init__(self, isim,maas):\n",
        "    self.isim=isim\n",
        "    self.maas=maas\n",
        "  def maas_hesapla(self):\n",
        "    print(\"maaş hesaplanıyor\")\n",
        "\n",
        "class yazilimci(Calisanlar):\n",
        "  def __init__(self, isim, maas, mesai):\n",
        "    super().__init__(isim, maas)\n",
        "    self.mesai= mesai\n",
        "\n",
        "  def maas_hesapla(self):\n",
        "    return self.maas+(self.mesai*10)\n",
        "\n",
        "class yonetici(Calisanlar):\n",
        "  def __init__(self, isim, maas, mesai):\n",
        "    super().__init__(isim, maas)\n",
        "    self.mesai=mesai\n",
        "\n",
        "  def maas_hesapla(self):\n",
        "    return self.maas+(self.mesai*20)"
      ],
      "metadata": {
        "id": "jpXr7v1hK_Ic"
      },
      "execution_count": null,
      "outputs": []
    },
    {
      "cell_type": "code",
      "source": [
        "calisanlar=[yazilimci(\"Ali\",5000,10),yonetici(\"Ayşe\",6000,10)]"
      ],
      "metadata": {
        "id": "1AOLKPKIMGv4"
      },
      "execution_count": null,
      "outputs": []
    },
    {
      "cell_type": "code",
      "source": [
        "for calisan in calisanlar:\n",
        "  print(f\"{calisan.isim} isimli çalışanın maaşı: {calisan.maas_hesapla()}\")"
      ],
      "metadata": {
        "colab": {
          "base_uri": "https://localhost:8080/"
        },
        "id": "lO51iXQtMdHQ",
        "outputId": "e39dcd80-6639-4bfc-cfe5-04a98bf6c751"
      },
      "execution_count": null,
      "outputs": [
        {
          "output_type": "stream",
          "name": "stdout",
          "text": [
            "Ali isimli çalışanın maaşı: 5100\n",
            "Ayşe isimli çalışanın maaşı: 6200\n"
          ]
        }
      ]
    }
  ]
}