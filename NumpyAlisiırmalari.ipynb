{
  "nbformat": 4,
  "nbformat_minor": 0,
  "metadata": {
    "colab": {
      "provenance": [],
      "authorship_tag": "ABX9TyPeYq3HFPhJQ0wTG5g5G9W6",
      "include_colab_link": true
    },
    "kernelspec": {
      "name": "python3",
      "display_name": "Python 3"
    },
    "language_info": {
      "name": "python"
    }
  },
  "cells": [
    {
      "cell_type": "markdown",
      "metadata": {
        "id": "view-in-github",
        "colab_type": "text"
      },
      "source": [
        "<a href=\"https://colab.research.google.com/github/beyzanurbayir/PythonProjects/blob/master/NumpyAlisi%C4%B1rmalari.ipynb\" target=\"_parent\"><img src=\"https://colab.research.google.com/assets/colab-badge.svg\" alt=\"Open In Colab\"/></a>"
      ]
    },
    {
      "cell_type": "markdown",
      "source": [
        "1. Alıştırma:\n",
        "\n",
        "İki vektörün iç çarpımını hesaplayan bir fonksiyon oluşturmak."
      ],
      "metadata": {
        "id": "Ex1BY0JlT5Sk"
      }
    },
    {
      "cell_type": "code",
      "execution_count": 4,
      "metadata": {
        "id": "7u6--PkvSZ4g"
      },
      "outputs": [],
      "source": [
        "import numpy as np"
      ]
    },
    {
      "cell_type": "code",
      "source": [
        "def InnerProduct(V1,V2):\n",
        "  return V1*V2"
      ],
      "metadata": {
        "id": "qkxury3jUh9X"
      },
      "execution_count": 5,
      "outputs": []
    },
    {
      "cell_type": "code",
      "source": [
        "V1 = np.array([1,2,3])\n",
        "V2 = np.array([4,5,6])"
      ],
      "metadata": {
        "id": "lpP8Jz8GUDHE"
      },
      "execution_count": 6,
      "outputs": []
    },
    {
      "cell_type": "code",
      "source": [
        "print(InnerProduct(V1,V2))"
      ],
      "metadata": {
        "colab": {
          "base_uri": "https://localhost:8080/"
        },
        "id": "c5s3JrufUGTd",
        "outputId": "e2b71034-4394-4592-db43-c0336bcaa979"
      },
      "execution_count": 7,
      "outputs": [
        {
          "output_type": "stream",
          "name": "stdout",
          "text": [
            "[ 4 10 18]\n"
          ]
        }
      ]
    },
    {
      "cell_type": "markdown",
      "source": [
        "2. Alıştırma:\n",
        "\n",
        "Belirli bir aralıktaki sayıların ortalamasını hesaplayan kod"
      ],
      "metadata": {
        "id": "XxGRb3N2VJqe"
      }
    },
    {
      "cell_type": "code",
      "source": [
        "import numpy as np"
      ],
      "metadata": {
        "id": "zD5eri8ZV0n2"
      },
      "execution_count": 21,
      "outputs": []
    },
    {
      "cell_type": "code",
      "source": [
        "arr1= np.arange(25)"
      ],
      "metadata": {
        "id": "88mA2nXkVM2o"
      },
      "execution_count": 29,
      "outputs": []
    },
    {
      "cell_type": "code",
      "source": [
        "arr1"
      ],
      "metadata": {
        "colab": {
          "base_uri": "https://localhost:8080/"
        },
        "id": "yWfcF9juWMvY",
        "outputId": "1a604f43-153d-4921-f900-4e5446fbe305"
      },
      "execution_count": 30,
      "outputs": [
        {
          "output_type": "execute_result",
          "data": {
            "text/plain": [
              "array([ 0,  1,  2,  3,  4,  5,  6,  7,  8,  9, 10, 11, 12, 13, 14, 15, 16,\n",
              "       17, 18, 19, 20, 21, 22, 23, 24])"
            ]
          },
          "metadata": {},
          "execution_count": 30
        }
      ]
    },
    {
      "cell_type": "code",
      "source": [
        "result=0\n",
        "for i in arr1:\n",
        "  result += i\n",
        "\n",
        "print(result)"
      ],
      "metadata": {
        "colab": {
          "base_uri": "https://localhost:8080/"
        },
        "id": "XnmdOUrBXaUa",
        "outputId": "182b2b15-b0bc-4f87-c3bf-1be37b2907c6"
      },
      "execution_count": 31,
      "outputs": [
        {
          "output_type": "stream",
          "name": "stdout",
          "text": [
            "300\n"
          ]
        }
      ]
    },
    {
      "cell_type": "markdown",
      "source": [
        "3. Alıştırma:\n",
        "\n",
        "İki matrisin çarpımını hesaplayan bir fonksiyon oluşturmak"
      ],
      "metadata": {
        "id": "LAtnH-H-YGLz"
      }
    },
    {
      "cell_type": "code",
      "source": [
        "import numpy as np"
      ],
      "metadata": {
        "id": "43jDa510YLCH"
      },
      "execution_count": 37,
      "outputs": []
    },
    {
      "cell_type": "code",
      "source": [
        "M1= np.random.randint(1,100,(5,5))\n",
        "M2= np.random.randint(1,100,(5,5))"
      ],
      "metadata": {
        "id": "b5plX7j6YUEJ"
      },
      "execution_count": 38,
      "outputs": []
    },
    {
      "cell_type": "code",
      "source": [
        "M1"
      ],
      "metadata": {
        "colab": {
          "base_uri": "https://localhost:8080/"
        },
        "id": "bMHASEsiY0QD",
        "outputId": "79d4bf14-5086-4937-fdeb-ee4d8a32d8b9"
      },
      "execution_count": 39,
      "outputs": [
        {
          "output_type": "execute_result",
          "data": {
            "text/plain": [
              "array([[27, 44, 23, 86, 55],\n",
              "       [83, 84, 70, 10, 26],\n",
              "       [76, 14,  2, 18, 62],\n",
              "       [46, 12, 34, 35, 53],\n",
              "       [ 5, 80, 20, 30, 23]])"
            ]
          },
          "metadata": {},
          "execution_count": 39
        }
      ]
    },
    {
      "cell_type": "code",
      "source": [
        "M2"
      ],
      "metadata": {
        "colab": {
          "base_uri": "https://localhost:8080/"
        },
        "id": "sVnBr5hVZCEn",
        "outputId": "9300890c-337a-48c1-c58e-7d9588f87faa"
      },
      "execution_count": 40,
      "outputs": [
        {
          "output_type": "execute_result",
          "data": {
            "text/plain": [
              "array([[35, 58, 45, 34, 32],\n",
              "       [97, 89, 70, 66, 98],\n",
              "       [51, 58, 20, 76,  5],\n",
              "       [53, 87, 15, 55, 99],\n",
              "       [53, 85, 79, 25, 52]])"
            ]
          },
          "metadata": {},
          "execution_count": 40
        }
      ]
    },
    {
      "cell_type": "code",
      "source": [
        "def MatrixMultiplication(M1,M2):\n",
        "  return M1*M2"
      ],
      "metadata": {
        "id": "fEzqITx0ZNu7"
      },
      "execution_count": 41,
      "outputs": []
    },
    {
      "cell_type": "code",
      "source": [
        "MatrixMultiplication(M1,M2)"
      ],
      "metadata": {
        "colab": {
          "base_uri": "https://localhost:8080/"
        },
        "id": "wA4qyNhVZVOi",
        "outputId": "febc0370-df3c-4c48-b927-431e5edf7976"
      },
      "execution_count": 42,
      "outputs": [
        {
          "output_type": "execute_result",
          "data": {
            "text/plain": [
              "array([[ 945, 2552, 1035, 2924, 1760],\n",
              "       [8051, 7476, 4900,  660, 2548],\n",
              "       [3876,  812,   40, 1368,  310],\n",
              "       [2438, 1044,  510, 1925, 5247],\n",
              "       [ 265, 6800, 1580,  750, 1196]])"
            ]
          },
          "metadata": {},
          "execution_count": 42
        }
      ]
    },
    {
      "cell_type": "markdown",
      "source": [
        "4. Alıştırma:\n",
        "\n",
        "Bir matrisin determinantını hesaplayan bir fonksiyon oluşturmak."
      ],
      "metadata": {
        "id": "X5JdAnjNZm65"
      }
    },
    {
      "cell_type": "code",
      "source": [
        "import numpy as np"
      ],
      "metadata": {
        "id": "D-i4hXKJZplU"
      },
      "execution_count": 47,
      "outputs": []
    },
    {
      "cell_type": "code",
      "source": [
        "matris=np.random.randint(1,100,(5,5))"
      ],
      "metadata": {
        "id": "BDV8QVNGZ6y8"
      },
      "execution_count": 48,
      "outputs": []
    },
    {
      "cell_type": "code",
      "source": [
        "matris"
      ],
      "metadata": {
        "colab": {
          "base_uri": "https://localhost:8080/"
        },
        "id": "_ur5hNC2aF3i",
        "outputId": "a9be2abe-c740-4ee1-8644-53b7fd5f26b5"
      },
      "execution_count": 49,
      "outputs": [
        {
          "output_type": "execute_result",
          "data": {
            "text/plain": [
              "array([[33, 16, 64, 69,  7],\n",
              "       [12,  3, 68, 97, 24],\n",
              "       [87, 84, 84, 46, 22],\n",
              "       [48,  8, 46, 76, 27],\n",
              "       [25, 35,  3, 46,  2]])"
            ]
          },
          "metadata": {},
          "execution_count": 49
        }
      ]
    },
    {
      "cell_type": "code",
      "source": [
        "np.linalg.det(matris)   # Matrisin determinantını hesaplar"
      ],
      "metadata": {
        "colab": {
          "base_uri": "https://localhost:8080/"
        },
        "id": "XBZEO3l0aBh-",
        "outputId": "d46f2a33-c7e2-4652-a694-e68313e40bf5"
      },
      "execution_count": 50,
      "outputs": [
        {
          "output_type": "execute_result",
          "data": {
            "text/plain": [
              "236699242.99999923"
            ]
          },
          "metadata": {},
          "execution_count": 50
        }
      ]
    },
    {
      "cell_type": "code",
      "source": [
        "round(np.linalg.det(matris))   # Hesaplanan determinantı en yakın sayıya yuvarlar"
      ],
      "metadata": {
        "colab": {
          "base_uri": "https://localhost:8080/"
        },
        "id": "bxin5qwFaLqF",
        "outputId": "73c626b1-7c98-444b-b0b3-b75c7dbac659"
      },
      "execution_count": 51,
      "outputs": [
        {
          "output_type": "execute_result",
          "data": {
            "text/plain": [
              "236699243"
            ]
          },
          "metadata": {},
          "execution_count": 51
        }
      ]
    },
    {
      "cell_type": "markdown",
      "source": [
        "5. Alıştırma:\n",
        "\n",
        "Verilen bir matrisin tersini hesaplayan kod oluşturmak."
      ],
      "metadata": {
        "id": "IsCGhEcsa4ud"
      }
    },
    {
      "cell_type": "code",
      "source": [
        "import numpy as np"
      ],
      "metadata": {
        "id": "Fe2IQFOca3xn"
      },
      "execution_count": 52,
      "outputs": []
    },
    {
      "cell_type": "code",
      "source": [
        "M = np.random.randint(0,100,(5,5))"
      ],
      "metadata": {
        "id": "3-X3ynZZa_ph"
      },
      "execution_count": 54,
      "outputs": []
    },
    {
      "cell_type": "code",
      "source": [
        "M"
      ],
      "metadata": {
        "colab": {
          "base_uri": "https://localhost:8080/"
        },
        "id": "QvWqsHrebG5L",
        "outputId": "85c929f9-5345-4ee3-dc42-35a204720e47"
      },
      "execution_count": 55,
      "outputs": [
        {
          "output_type": "execute_result",
          "data": {
            "text/plain": [
              "array([[25, 33, 61, 45, 16],\n",
              "       [98, 24, 68,  7, 56],\n",
              "       [27, 25, 50,  0, 69],\n",
              "       [14, 27, 88, 24, 39],\n",
              "       [ 7, 29, 25, 75, 19]])"
            ]
          },
          "metadata": {},
          "execution_count": 55
        }
      ]
    },
    {
      "cell_type": "code",
      "source": [
        "np.linalg.inv(M)    # Matrisin tersini almayı sağlayan fonksiyon"
      ],
      "metadata": {
        "colab": {
          "base_uri": "https://localhost:8080/"
        },
        "id": "yg9iw2exbUOF",
        "outputId": "8057f5a3-bbb8-45cd-dafd-a0bd84afbaca"
      },
      "execution_count": 56,
      "outputs": [
        {
          "output_type": "execute_result",
          "data": {
            "text/plain": [
              "array([[ 0.00142933,  0.01267538, -0.006698  , -0.00703999,  0.00021216],\n",
              "       [ 0.1019391 , -0.02640084,  0.04499568, -0.06506659, -0.03787807],\n",
              "       [-0.01048848,  0.00297702, -0.0132737 ,  0.0243833 , -0.00178742],\n",
              "       [-0.0284807 ,  0.00741271, -0.01499077,  0.01549437,  0.0247717 ],\n",
              "       [-0.02989341,  0.00244833,  0.01042955,  0.00866057,  0.01493615]])"
            ]
          },
          "metadata": {},
          "execution_count": 56
        }
      ]
    },
    {
      "cell_type": "markdown",
      "source": [
        "6. Alıştırma:\n",
        "\n"
      ],
      "metadata": {
        "id": "VzFfide_b0vk"
      }
    },
    {
      "cell_type": "code",
      "source": [
        "import numpy as np"
      ],
      "metadata": {
        "id": "OnisDVS3b6FV"
      },
      "execution_count": 66,
      "outputs": []
    },
    {
      "cell_type": "code",
      "source": [
        "Array1 = np.random.randint(0,100,(5,5))\n",
        "Array2 = np.random.randint(0,100,(5,5))"
      ],
      "metadata": {
        "id": "VdC5t2vGb9P4"
      },
      "execution_count": 67,
      "outputs": []
    },
    {
      "cell_type": "code",
      "source": [
        "print(\"Üzerinde işlem yapılacak olan matrisler sırasıyla şunlardır: \")\n",
        "print(\"1. Matris:\")\n",
        "print(Array1)\n",
        "print(\"\\n2. Matris:\")\n",
        "print(Array2)\n",
        "print(\"\\n\\n\")\n",
        "secim =int(input(\"Lütfen matrisler üzerinde yapmak istediğiniz işlemi seçiniz:\\n1. Toplama\\n2. Çıkarma\\n3. Çarpma\\n\\n\"))\n",
        "\n",
        "if secim == 1:\n",
        "  print(\"Toplama işlemi yapılıyor...\\nSonuc:\")\n",
        "  print(Array1 + Array2)\n",
        "elif secim == 2:\n",
        "  print(\"Çıkarma işlemi yapılıyor...\\nSonuc:\")\n",
        "  print(Array1 - Array2)\n",
        "elif secim == 3:\n",
        "  print(\"Çarpma işlemi yapılıyor...\\nSonuc:\")\n",
        "else:\n",
        "  print(\"Geçersiz seçim yaptınız.\")"
      ],
      "metadata": {
        "colab": {
          "base_uri": "https://localhost:8080/"
        },
        "id": "LKHeDpjfcL2w",
        "outputId": "f0a196a4-41f1-4cbd-f89e-c5ad93624d14"
      },
      "execution_count": 68,
      "outputs": [
        {
          "output_type": "stream",
          "name": "stdout",
          "text": [
            "Üzerinde işlem yapılacak olan matrisler sırasıyla şunlardır: \n",
            "1. Matris:\n",
            "[[85 19 87 78 32]\n",
            " [92 25 51 94 72]\n",
            " [ 3  1 41 87 53]\n",
            " [16  6 97 45 66]\n",
            " [14 78  6  4 68]]\n",
            "\n",
            "2. Matris:\n",
            "[[23 32 72 50 63]\n",
            " [95 78 38 27 58]\n",
            " [22 27 31 29 20]\n",
            " [90 78 61 87 41]\n",
            " [ 4 83 11 44 18]]\n",
            "\n",
            "\n",
            "\n",
            "Lütfen matrisler üzerinde yapmak istediğiniz işlemi seçiniz:\n",
            "1. Toplama\n",
            "2. Çıkarma\n",
            "3. Çarpma\n",
            "\n",
            "1\n",
            "Toplama işlemi yapılıyor...\n",
            "Sonuc:\n",
            "[[108  51 159 128  95]\n",
            " [187 103  89 121 130]\n",
            " [ 25  28  72 116  73]\n",
            " [106  84 158 132 107]\n",
            " [ 18 161  17  48  86]]\n"
          ]
        }
      ]
    }
  ]
}