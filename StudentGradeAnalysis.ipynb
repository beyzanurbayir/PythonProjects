{
  "nbformat": 4,
  "nbformat_minor": 0,
  "metadata": {
    "colab": {
      "provenance": [],
      "authorship_tag": "ABX9TyP3gY1A+CKMoqqzWmFxtmQ3",
      "include_colab_link": true
    },
    "kernelspec": {
      "name": "python3",
      "display_name": "Python 3"
    },
    "language_info": {
      "name": "python"
    }
  },
  "cells": [
    {
      "cell_type": "markdown",
      "metadata": {
        "id": "view-in-github",
        "colab_type": "text"
      },
      "source": [
        "<a href=\"https://colab.research.google.com/github/beyzanurbayir/PythonProjects/blob/master/StudentGradeAnalysis.ipynb\" target=\"_parent\"><img src=\"https://colab.research.google.com/assets/colab-badge.svg\" alt=\"Open In Colab\"/></a>"
      ]
    },
    {
      "cell_type": "markdown",
      "source": [
        "Bu çalışma Seaborn, pandas dataset okuma, merge, join, concatenate, Matplotlib, missing veriler ve groupBy konularını içeren bir veri analizi ve görselleştirme işlemleri konusunda pratiklik sağlamak amacıyla yapılmıştır.\n",
        "\n",
        "\n",
        "\n",
        "Bu proje, öğrenci notları analizi ve görselleştirmesi üzerine kuruludur. İlk olarak, iki farklı veri kümesi oluşturularak öğrencilerin Matematik ve Fizik derslerindeki notları bir araya getirilmiştir. Eksik veriler, ders notlarının ortalamaları kullanılarak doldurulmuştur. Yeni öğrenci verileri eklenerek veri kümesi genişletilmiş ve tüm öğrencilerin ortalama notları hesaplanmıştır. Gruplama işlemi ile her öğrencinin ortalama notları hesaplanarak özetlenmiştir. Son olarak, Seaborn ve Matplotlib kullanılarak öğrenci notlarının görselleştirilmesi yapılmış, bar grafiği ve dağılım grafiği ile verilerin daha anlaşılır hale gelmesi sağlanmıştır."
      ],
      "metadata": {
        "id": "vHVHsb709Wh_"
      }
    },
    {
      "cell_type": "code",
      "source": [
        "import pandas as pd\n",
        "import numpy as np\n",
        "import seaborn as sns\n",
        "import matplotlib.pyplot as plt"
      ],
      "metadata": {
        "id": "OKP14T3aqWPw"
      },
      "execution_count": 108,
      "outputs": []
    },
    {
      "cell_type": "code",
      "source": [
        "data1={\n",
        "    'ogrenci':[\"Cemil\",\"Suat\",\"Yusuf\",\"Orhan\"],\n",
        "    'ID':[1,2,3,4],\n",
        "    'Fizik':[np.nan,90,75,60]\n",
        "}\n",
        "\n",
        "data2={\n",
        "    'ogrenci':[\"Sadet\",\"Suat\",\"Yusuf\",\"Orhan\"],\n",
        "    'ID':[5,2,3,4],\n",
        "    'Matematik':[85,np.nan,75,np.nan]\n",
        "}\n",
        "\n",
        "df1=pd.DataFrame(data1)\n",
        "df2=pd.DataFrame(data2)\n",
        "\n",
        "print(df1)\n",
        "print(df2)"
      ],
      "metadata": {
        "colab": {
          "base_uri": "https://localhost:8080/"
        },
        "id": "K11J0v93qf7T",
        "outputId": "ef9f9f8b-acca-46c3-aa5b-acc2a7c8dd33"
      },
      "execution_count": 109,
      "outputs": [
        {
          "output_type": "stream",
          "name": "stdout",
          "text": [
            "  ogrenci  ID  Fizik\n",
            "0   Cemil   1    NaN\n",
            "1    Suat   2   90.0\n",
            "2   Yusuf   3   75.0\n",
            "3   Orhan   4   60.0\n",
            "  ogrenci  ID  Matematik\n",
            "0   Sadet   5       85.0\n",
            "1    Suat   2        NaN\n",
            "2   Yusuf   3       75.0\n",
            "3   Orhan   4        NaN\n"
          ]
        }
      ]
    },
    {
      "cell_type": "code",
      "source": [
        "merged_df=pd.merge(df1,df2,on=['ogrenci','ID'],how='outer')    # Bu kod, `df1` ve `df2` DataFrame'lerini `ogrenci` ve `ID` sütunları üzerinden birleştirir ve\n",
        "                                                               # her iki DataFrame'de de mevcut olan tüm satırları içeren bir dış birleştirme (outer join) gerçekleştirir.\n",
        "merged_df"
      ],
      "metadata": {
        "colab": {
          "base_uri": "https://localhost:8080/",
          "height": 206
        },
        "id": "jGLuxlWxsagl",
        "outputId": "968e9a05-09e1-485a-9627-9e82ca1a542f"
      },
      "execution_count": 110,
      "outputs": [
        {
          "output_type": "execute_result",
          "data": {
            "text/plain": [
              "  ogrenci  ID  Fizik  Matematik\n",
              "0   Cemil   1    NaN        NaN\n",
              "1    Suat   2   90.0        NaN\n",
              "2   Yusuf   3   75.0       75.0\n",
              "3   Orhan   4   60.0        NaN\n",
              "4   Sadet   5    NaN       85.0"
            ],
            "text/html": [
              "\n",
              "  <div id=\"df-f54044a9-944f-4e2c-8cec-2ca1f4e73f1f\" class=\"colab-df-container\">\n",
              "    <div>\n",
              "<style scoped>\n",
              "    .dataframe tbody tr th:only-of-type {\n",
              "        vertical-align: middle;\n",
              "    }\n",
              "\n",
              "    .dataframe tbody tr th {\n",
              "        vertical-align: top;\n",
              "    }\n",
              "\n",
              "    .dataframe thead th {\n",
              "        text-align: right;\n",
              "    }\n",
              "</style>\n",
              "<table border=\"1\" class=\"dataframe\">\n",
              "  <thead>\n",
              "    <tr style=\"text-align: right;\">\n",
              "      <th></th>\n",
              "      <th>ogrenci</th>\n",
              "      <th>ID</th>\n",
              "      <th>Fizik</th>\n",
              "      <th>Matematik</th>\n",
              "    </tr>\n",
              "  </thead>\n",
              "  <tbody>\n",
              "    <tr>\n",
              "      <th>0</th>\n",
              "      <td>Cemil</td>\n",
              "      <td>1</td>\n",
              "      <td>NaN</td>\n",
              "      <td>NaN</td>\n",
              "    </tr>\n",
              "    <tr>\n",
              "      <th>1</th>\n",
              "      <td>Suat</td>\n",
              "      <td>2</td>\n",
              "      <td>90.0</td>\n",
              "      <td>NaN</td>\n",
              "    </tr>\n",
              "    <tr>\n",
              "      <th>2</th>\n",
              "      <td>Yusuf</td>\n",
              "      <td>3</td>\n",
              "      <td>75.0</td>\n",
              "      <td>75.0</td>\n",
              "    </tr>\n",
              "    <tr>\n",
              "      <th>3</th>\n",
              "      <td>Orhan</td>\n",
              "      <td>4</td>\n",
              "      <td>60.0</td>\n",
              "      <td>NaN</td>\n",
              "    </tr>\n",
              "    <tr>\n",
              "      <th>4</th>\n",
              "      <td>Sadet</td>\n",
              "      <td>5</td>\n",
              "      <td>NaN</td>\n",
              "      <td>85.0</td>\n",
              "    </tr>\n",
              "  </tbody>\n",
              "</table>\n",
              "</div>\n",
              "    <div class=\"colab-df-buttons\">\n",
              "\n",
              "  <div class=\"colab-df-container\">\n",
              "    <button class=\"colab-df-convert\" onclick=\"convertToInteractive('df-f54044a9-944f-4e2c-8cec-2ca1f4e73f1f')\"\n",
              "            title=\"Convert this dataframe to an interactive table.\"\n",
              "            style=\"display:none;\">\n",
              "\n",
              "  <svg xmlns=\"http://www.w3.org/2000/svg\" height=\"24px\" viewBox=\"0 -960 960 960\">\n",
              "    <path d=\"M120-120v-720h720v720H120Zm60-500h600v-160H180v160Zm220 220h160v-160H400v160Zm0 220h160v-160H400v160ZM180-400h160v-160H180v160Zm440 0h160v-160H620v160ZM180-180h160v-160H180v160Zm440 0h160v-160H620v160Z\"/>\n",
              "  </svg>\n",
              "    </button>\n",
              "\n",
              "  <style>\n",
              "    .colab-df-container {\n",
              "      display:flex;\n",
              "      gap: 12px;\n",
              "    }\n",
              "\n",
              "    .colab-df-convert {\n",
              "      background-color: #E8F0FE;\n",
              "      border: none;\n",
              "      border-radius: 50%;\n",
              "      cursor: pointer;\n",
              "      display: none;\n",
              "      fill: #1967D2;\n",
              "      height: 32px;\n",
              "      padding: 0 0 0 0;\n",
              "      width: 32px;\n",
              "    }\n",
              "\n",
              "    .colab-df-convert:hover {\n",
              "      background-color: #E2EBFA;\n",
              "      box-shadow: 0px 1px 2px rgba(60, 64, 67, 0.3), 0px 1px 3px 1px rgba(60, 64, 67, 0.15);\n",
              "      fill: #174EA6;\n",
              "    }\n",
              "\n",
              "    .colab-df-buttons div {\n",
              "      margin-bottom: 4px;\n",
              "    }\n",
              "\n",
              "    [theme=dark] .colab-df-convert {\n",
              "      background-color: #3B4455;\n",
              "      fill: #D2E3FC;\n",
              "    }\n",
              "\n",
              "    [theme=dark] .colab-df-convert:hover {\n",
              "      background-color: #434B5C;\n",
              "      box-shadow: 0px 1px 3px 1px rgba(0, 0, 0, 0.15);\n",
              "      filter: drop-shadow(0px 1px 2px rgba(0, 0, 0, 0.3));\n",
              "      fill: #FFFFFF;\n",
              "    }\n",
              "  </style>\n",
              "\n",
              "    <script>\n",
              "      const buttonEl =\n",
              "        document.querySelector('#df-f54044a9-944f-4e2c-8cec-2ca1f4e73f1f button.colab-df-convert');\n",
              "      buttonEl.style.display =\n",
              "        google.colab.kernel.accessAllowed ? 'block' : 'none';\n",
              "\n",
              "      async function convertToInteractive(key) {\n",
              "        const element = document.querySelector('#df-f54044a9-944f-4e2c-8cec-2ca1f4e73f1f');\n",
              "        const dataTable =\n",
              "          await google.colab.kernel.invokeFunction('convertToInteractive',\n",
              "                                                    [key], {});\n",
              "        if (!dataTable) return;\n",
              "\n",
              "        const docLinkHtml = 'Like what you see? Visit the ' +\n",
              "          '<a target=\"_blank\" href=https://colab.research.google.com/notebooks/data_table.ipynb>data table notebook</a>'\n",
              "          + ' to learn more about interactive tables.';\n",
              "        element.innerHTML = '';\n",
              "        dataTable['output_type'] = 'display_data';\n",
              "        await google.colab.output.renderOutput(dataTable, element);\n",
              "        const docLink = document.createElement('div');\n",
              "        docLink.innerHTML = docLinkHtml;\n",
              "        element.appendChild(docLink);\n",
              "      }\n",
              "    </script>\n",
              "  </div>\n",
              "\n",
              "\n",
              "<div id=\"df-3a2cfef6-2547-4239-ba4b-5ab22920caba\">\n",
              "  <button class=\"colab-df-quickchart\" onclick=\"quickchart('df-3a2cfef6-2547-4239-ba4b-5ab22920caba')\"\n",
              "            title=\"Suggest charts\"\n",
              "            style=\"display:none;\">\n",
              "\n",
              "<svg xmlns=\"http://www.w3.org/2000/svg\" height=\"24px\"viewBox=\"0 0 24 24\"\n",
              "     width=\"24px\">\n",
              "    <g>\n",
              "        <path d=\"M19 3H5c-1.1 0-2 .9-2 2v14c0 1.1.9 2 2 2h14c1.1 0 2-.9 2-2V5c0-1.1-.9-2-2-2zM9 17H7v-7h2v7zm4 0h-2V7h2v10zm4 0h-2v-4h2v4z\"/>\n",
              "    </g>\n",
              "</svg>\n",
              "  </button>\n",
              "\n",
              "<style>\n",
              "  .colab-df-quickchart {\n",
              "      --bg-color: #E8F0FE;\n",
              "      --fill-color: #1967D2;\n",
              "      --hover-bg-color: #E2EBFA;\n",
              "      --hover-fill-color: #174EA6;\n",
              "      --disabled-fill-color: #AAA;\n",
              "      --disabled-bg-color: #DDD;\n",
              "  }\n",
              "\n",
              "  [theme=dark] .colab-df-quickchart {\n",
              "      --bg-color: #3B4455;\n",
              "      --fill-color: #D2E3FC;\n",
              "      --hover-bg-color: #434B5C;\n",
              "      --hover-fill-color: #FFFFFF;\n",
              "      --disabled-bg-color: #3B4455;\n",
              "      --disabled-fill-color: #666;\n",
              "  }\n",
              "\n",
              "  .colab-df-quickchart {\n",
              "    background-color: var(--bg-color);\n",
              "    border: none;\n",
              "    border-radius: 50%;\n",
              "    cursor: pointer;\n",
              "    display: none;\n",
              "    fill: var(--fill-color);\n",
              "    height: 32px;\n",
              "    padding: 0;\n",
              "    width: 32px;\n",
              "  }\n",
              "\n",
              "  .colab-df-quickchart:hover {\n",
              "    background-color: var(--hover-bg-color);\n",
              "    box-shadow: 0 1px 2px rgba(60, 64, 67, 0.3), 0 1px 3px 1px rgba(60, 64, 67, 0.15);\n",
              "    fill: var(--button-hover-fill-color);\n",
              "  }\n",
              "\n",
              "  .colab-df-quickchart-complete:disabled,\n",
              "  .colab-df-quickchart-complete:disabled:hover {\n",
              "    background-color: var(--disabled-bg-color);\n",
              "    fill: var(--disabled-fill-color);\n",
              "    box-shadow: none;\n",
              "  }\n",
              "\n",
              "  .colab-df-spinner {\n",
              "    border: 2px solid var(--fill-color);\n",
              "    border-color: transparent;\n",
              "    border-bottom-color: var(--fill-color);\n",
              "    animation:\n",
              "      spin 1s steps(1) infinite;\n",
              "  }\n",
              "\n",
              "  @keyframes spin {\n",
              "    0% {\n",
              "      border-color: transparent;\n",
              "      border-bottom-color: var(--fill-color);\n",
              "      border-left-color: var(--fill-color);\n",
              "    }\n",
              "    20% {\n",
              "      border-color: transparent;\n",
              "      border-left-color: var(--fill-color);\n",
              "      border-top-color: var(--fill-color);\n",
              "    }\n",
              "    30% {\n",
              "      border-color: transparent;\n",
              "      border-left-color: var(--fill-color);\n",
              "      border-top-color: var(--fill-color);\n",
              "      border-right-color: var(--fill-color);\n",
              "    }\n",
              "    40% {\n",
              "      border-color: transparent;\n",
              "      border-right-color: var(--fill-color);\n",
              "      border-top-color: var(--fill-color);\n",
              "    }\n",
              "    60% {\n",
              "      border-color: transparent;\n",
              "      border-right-color: var(--fill-color);\n",
              "    }\n",
              "    80% {\n",
              "      border-color: transparent;\n",
              "      border-right-color: var(--fill-color);\n",
              "      border-bottom-color: var(--fill-color);\n",
              "    }\n",
              "    90% {\n",
              "      border-color: transparent;\n",
              "      border-bottom-color: var(--fill-color);\n",
              "    }\n",
              "  }\n",
              "</style>\n",
              "\n",
              "  <script>\n",
              "    async function quickchart(key) {\n",
              "      const quickchartButtonEl =\n",
              "        document.querySelector('#' + key + ' button');\n",
              "      quickchartButtonEl.disabled = true;  // To prevent multiple clicks.\n",
              "      quickchartButtonEl.classList.add('colab-df-spinner');\n",
              "      try {\n",
              "        const charts = await google.colab.kernel.invokeFunction(\n",
              "            'suggestCharts', [key], {});\n",
              "      } catch (error) {\n",
              "        console.error('Error during call to suggestCharts:', error);\n",
              "      }\n",
              "      quickchartButtonEl.classList.remove('colab-df-spinner');\n",
              "      quickchartButtonEl.classList.add('colab-df-quickchart-complete');\n",
              "    }\n",
              "    (() => {\n",
              "      let quickchartButtonEl =\n",
              "        document.querySelector('#df-3a2cfef6-2547-4239-ba4b-5ab22920caba button');\n",
              "      quickchartButtonEl.style.display =\n",
              "        google.colab.kernel.accessAllowed ? 'block' : 'none';\n",
              "    })();\n",
              "  </script>\n",
              "</div>\n",
              "\n",
              "  <div id=\"id_50a810ad-1b4d-40ec-93ab-73d3070c87ec\">\n",
              "    <style>\n",
              "      .colab-df-generate {\n",
              "        background-color: #E8F0FE;\n",
              "        border: none;\n",
              "        border-radius: 50%;\n",
              "        cursor: pointer;\n",
              "        display: none;\n",
              "        fill: #1967D2;\n",
              "        height: 32px;\n",
              "        padding: 0 0 0 0;\n",
              "        width: 32px;\n",
              "      }\n",
              "\n",
              "      .colab-df-generate:hover {\n",
              "        background-color: #E2EBFA;\n",
              "        box-shadow: 0px 1px 2px rgba(60, 64, 67, 0.3), 0px 1px 3px 1px rgba(60, 64, 67, 0.15);\n",
              "        fill: #174EA6;\n",
              "      }\n",
              "\n",
              "      [theme=dark] .colab-df-generate {\n",
              "        background-color: #3B4455;\n",
              "        fill: #D2E3FC;\n",
              "      }\n",
              "\n",
              "      [theme=dark] .colab-df-generate:hover {\n",
              "        background-color: #434B5C;\n",
              "        box-shadow: 0px 1px 3px 1px rgba(0, 0, 0, 0.15);\n",
              "        filter: drop-shadow(0px 1px 2px rgba(0, 0, 0, 0.3));\n",
              "        fill: #FFFFFF;\n",
              "      }\n",
              "    </style>\n",
              "    <button class=\"colab-df-generate\" onclick=\"generateWithVariable('merged_df')\"\n",
              "            title=\"Generate code using this dataframe.\"\n",
              "            style=\"display:none;\">\n",
              "\n",
              "  <svg xmlns=\"http://www.w3.org/2000/svg\" height=\"24px\"viewBox=\"0 0 24 24\"\n",
              "       width=\"24px\">\n",
              "    <path d=\"M7,19H8.4L18.45,9,17,7.55,7,17.6ZM5,21V16.75L18.45,3.32a2,2,0,0,1,2.83,0l1.4,1.43a1.91,1.91,0,0,1,.58,1.4,1.91,1.91,0,0,1-.58,1.4L9.25,21ZM18.45,9,17,7.55Zm-12,3A5.31,5.31,0,0,0,4.9,8.1,5.31,5.31,0,0,0,1,6.5,5.31,5.31,0,0,0,4.9,4.9,5.31,5.31,0,0,0,6.5,1,5.31,5.31,0,0,0,8.1,4.9,5.31,5.31,0,0,0,12,6.5,5.46,5.46,0,0,0,6.5,12Z\"/>\n",
              "  </svg>\n",
              "    </button>\n",
              "    <script>\n",
              "      (() => {\n",
              "      const buttonEl =\n",
              "        document.querySelector('#id_50a810ad-1b4d-40ec-93ab-73d3070c87ec button.colab-df-generate');\n",
              "      buttonEl.style.display =\n",
              "        google.colab.kernel.accessAllowed ? 'block' : 'none';\n",
              "\n",
              "      buttonEl.onclick = () => {\n",
              "        google.colab.notebook.generateWithVariable('merged_df');\n",
              "      }\n",
              "      })();\n",
              "    </script>\n",
              "  </div>\n",
              "\n",
              "    </div>\n",
              "  </div>\n"
            ],
            "application/vnd.google.colaboratory.intrinsic+json": {
              "type": "dataframe",
              "variable_name": "merged_df",
              "summary": "{\n  \"name\": \"merged_df\",\n  \"rows\": 5,\n  \"fields\": [\n    {\n      \"column\": \"ogrenci\",\n      \"properties\": {\n        \"dtype\": \"string\",\n        \"num_unique_values\": 5,\n        \"samples\": [\n          \"Suat\",\n          \"Sadet\",\n          \"Yusuf\"\n        ],\n        \"semantic_type\": \"\",\n        \"description\": \"\"\n      }\n    },\n    {\n      \"column\": \"ID\",\n      \"properties\": {\n        \"dtype\": \"number\",\n        \"std\": 1,\n        \"min\": 1,\n        \"max\": 5,\n        \"num_unique_values\": 5,\n        \"samples\": [\n          2,\n          5,\n          3\n        ],\n        \"semantic_type\": \"\",\n        \"description\": \"\"\n      }\n    },\n    {\n      \"column\": \"Fizik\",\n      \"properties\": {\n        \"dtype\": \"number\",\n        \"std\": 15.0,\n        \"min\": 60.0,\n        \"max\": 90.0,\n        \"num_unique_values\": 3,\n        \"samples\": [\n          90.0,\n          75.0,\n          60.0\n        ],\n        \"semantic_type\": \"\",\n        \"description\": \"\"\n      }\n    },\n    {\n      \"column\": \"Matematik\",\n      \"properties\": {\n        \"dtype\": \"number\",\n        \"std\": 7.0710678118654755,\n        \"min\": 75.0,\n        \"max\": 85.0,\n        \"num_unique_values\": 2,\n        \"samples\": [\n          85.0,\n          75.0\n        ],\n        \"semantic_type\": \"\",\n        \"description\": \"\"\n      }\n    }\n  ]\n}"
            }
          },
          "metadata": {},
          "execution_count": 110
        }
      ]
    },
    {
      "cell_type": "code",
      "source": [
        "merged_df[\"Fizik\"].fillna(merged_df[\"Fizik\"].mean(),inplace=True)            # merge_df DataFrame'inde Fizik sütunundaki eksik (NaN) değerleri sütunun ortalama değeriyle doldurur.\n",
        "merged_df[\"Matematik\"].fillna(merged_df[\"Matematik\"].mean(),inplace=True)\n",
        "print(merged_df)\n"
      ],
      "metadata": {
        "colab": {
          "base_uri": "https://localhost:8080/"
        },
        "id": "3uCXdwujufhL",
        "outputId": "2bff11fa-4833-41b7-ccf1-bedffd0de36b"
      },
      "execution_count": 111,
      "outputs": [
        {
          "output_type": "stream",
          "name": "stdout",
          "text": [
            "  ogrenci  ID  Fizik  Matematik\n",
            "0   Cemil   1   75.0       80.0\n",
            "1    Suat   2   90.0       80.0\n",
            "2   Yusuf   3   75.0       75.0\n",
            "3   Orhan   4   60.0       80.0\n",
            "4   Sadet   5   75.0       85.0\n"
          ]
        }
      ]
    },
    {
      "cell_type": "code",
      "source": [
        "merged_df['Ortalama'] = merged_df[['Matematik', 'Fizik']].mean(axis=1)  # merge_df DataFrame'inde Matematik ve Fizik sütunlarının ortalamasını hesaplar ve yeni bir sütun olarak ekler.\n",
        "print(merged_df)\n",
        "\n",
        "grouped = merged_df.groupby('ogrenci').mean()   # Ortalama notları sınıflara göre gruplayarak hesaplar\n",
        "print(grouped)\n"
      ],
      "metadata": {
        "colab": {
          "base_uri": "https://localhost:8080/"
        },
        "id": "jVYgyU-Y0gk1",
        "outputId": "638f8e8c-8541-48c0-cdec-75a046d8da56"
      },
      "execution_count": 113,
      "outputs": [
        {
          "output_type": "stream",
          "name": "stdout",
          "text": [
            "  ogrenci  ID  Fizik  Matematik  Ortalama\n",
            "0   Cemil   1   75.0       80.0      77.5\n",
            "1    Suat   2   90.0       80.0      85.0\n",
            "2   Yusuf   3   75.0       75.0      75.0\n",
            "3   Orhan   4   60.0       80.0      70.0\n",
            "4   Sadet   5   75.0       85.0      80.0\n",
            "          ID  Fizik  Matematik  Ortalama\n",
            "ogrenci                                 \n",
            "Cemil    1.0   75.0       80.0      77.5\n",
            "Orhan    4.0   60.0       80.0      70.0\n",
            "Sadet    5.0   75.0       85.0      80.0\n",
            "Suat     2.0   90.0       80.0      85.0\n",
            "Yusuf    3.0   75.0       75.0      75.0\n"
          ]
        }
      ]
    },
    {
      "cell_type": "code",
      "source": [
        "# Seaborn ile Çizim\n",
        "plt.figure(figsize=(10, 6))\n",
        "sns.barplot(x='ogrenci', y='Ortalama', data=merged_df)\n",
        "plt.title('Öğrenci Ortalama Notları')\n",
        "plt.xlabel('Öğrenci')\n",
        "plt.ylabel('Ortalama Not')\n",
        "plt.show()"
      ],
      "metadata": {
        "colab": {
          "base_uri": "https://localhost:8080/",
          "height": 568
        },
        "id": "9r-B2XK93s0N",
        "outputId": "d54b6044-de1d-4908-dcde-746763c95fc0"
      },
      "execution_count": 114,
      "outputs": [
        {
          "output_type": "display_data",
          "data": {
            "text/plain": [
              "<Figure size 1000x600 with 1 Axes>"
            ],
            "image/png": "[encoded data removed]"
          },
          "metadata": {}
        }
      ]
    },
    {
      "cell_type": "code",
      "source": [
        "plt.figure(figsize=(10, 6))\n",
        "plt.scatter(merged_df['Matematik'], merged_df['Fizik'])\n",
        "plt.title('Matematik ve Fizik not dağılımı')\n",
        "plt.xlabel('Matematik')\n",
        "plt.ylabel('Fizik')\n",
        "plt.grid(True)\n",
        "plt.show()\n"
      ],
      "metadata": {
        "colab": {
          "base_uri": "https://localhost:8080/",
          "height": 564
        },
        "id": "o0MhOgtQ5pwF",
        "outputId": "253ca6f6-9dea-4456-ef89-793b67942bff"
      },
      "execution_count": 115,
      "outputs": [
        {
          "output_type": "display_data",
          "data": {
            "text/plain": [
              "<Figure size 1000x600 with 1 Axes>"
            ],
            "image/png": "[encoded data removed]"
          },
          "metadata": {}
        }
      ]
    },
    {
      "cell_type": "code",
      "source": [
        "data3={\n",
        "    'ogrenci':[\"Ayşe\",\"Selin\",\"Mira\"],\n",
        "    'ID':[6,7,8],\n",
        "    'Fizik':[100,43,25],\n",
        "    'Matematik':[85,69,50]\n",
        "}\n",
        "\n",
        "df3=pd.DataFrame(data3)\n",
        "print(df3)"
      ],
      "metadata": {
        "colab": {
          "base_uri": "https://localhost:8080/"
        },
        "id": "h7x9rXIH636h",
        "outputId": "d04c1d3e-1220-4f74-ff89-f891f6f32c6c"
      },
      "execution_count": 116,
      "outputs": [
        {
          "output_type": "stream",
          "name": "stdout",
          "text": [
            "  ogrenci  ID  Fizik  Matematik\n",
            "0    Ayşe   6    100         85\n",
            "1   Selin   7     43         69\n",
            "2    Mira   8     25         50\n"
          ]
        }
      ]
    },
    {
      "cell_type": "code",
      "source": [
        "concatenated_df=pd.concat([merged_df,df3], ignore_index=True)\n",
        "print(concatenated_df)"
      ],
      "metadata": {
        "colab": {
          "base_uri": "https://localhost:8080/"
        },
        "id": "uWMivehO7pEP",
        "outputId": "b4c76a74-e5e3-47da-86ec-66c2913f00e2"
      },
      "execution_count": 117,
      "outputs": [
        {
          "output_type": "stream",
          "name": "stdout",
          "text": [
            "  ogrenci  ID  Fizik  Matematik  Ortalama\n",
            "0   Cemil   1   75.0       80.0      77.5\n",
            "1    Suat   2   90.0       80.0      85.0\n",
            "2   Yusuf   3   75.0       75.0      75.0\n",
            "3   Orhan   4   60.0       80.0      70.0\n",
            "4   Sadet   5   75.0       85.0      80.0\n",
            "5    Ayşe   6  100.0       85.0       NaN\n",
            "6   Selin   7   43.0       69.0       NaN\n",
            "7    Mira   8   25.0       50.0       NaN\n"
          ]
        }
      ]
    },
    {
      "cell_type": "code",
      "source": [
        "concatenated_df['Ortalama'] = concatenated_df[['Matematik', 'Fizik']].mean(axis=1)\n",
        "print(concatenated_df)\n"
      ],
      "metadata": {
        "colab": {
          "base_uri": "https://localhost:8080/"
        },
        "id": "6w6fu2ce8n_a",
        "outputId": "b9750c71-ef44-4aee-d518-c958e5fd6a46"
      },
      "execution_count": 118,
      "outputs": [
        {
          "output_type": "stream",
          "name": "stdout",
          "text": [
            "  ogrenci  ID  Fizik  Matematik  Ortalama\n",
            "0   Cemil   1   75.0       80.0      77.5\n",
            "1    Suat   2   90.0       80.0      85.0\n",
            "2   Yusuf   3   75.0       75.0      75.0\n",
            "3   Orhan   4   60.0       80.0      70.0\n",
            "4   Sadet   5   75.0       85.0      80.0\n",
            "5    Ayşe   6  100.0       85.0      92.5\n",
            "6   Selin   7   43.0       69.0      56.0\n",
            "7    Mira   8   25.0       50.0      37.5\n"
          ]
        }
      ]
    },
    {
      "cell_type": "code",
      "source": [
        "gruped=concatenated_df.groupby('ogrenci').mean()\n",
        "print(gruped)"
      ],
      "metadata": {
        "colab": {
          "base_uri": "https://localhost:8080/"
        },
        "id": "cYmLYw3z8xEY",
        "outputId": "16df44c2-9932-469a-87a2-c20f12d49410"
      },
      "execution_count": 119,
      "outputs": [
        {
          "output_type": "stream",
          "name": "stdout",
          "text": [
            "          ID  Fizik  Matematik  Ortalama\n",
            "ogrenci                                 \n",
            "Ayşe     6.0  100.0       85.0      92.5\n",
            "Cemil    1.0   75.0       80.0      77.5\n",
            "Mira     8.0   25.0       50.0      37.5\n",
            "Orhan    4.0   60.0       80.0      70.0\n",
            "Sadet    5.0   75.0       85.0      80.0\n",
            "Selin    7.0   43.0       69.0      56.0\n",
            "Suat     2.0   90.0       80.0      85.0\n",
            "Yusuf    3.0   75.0       75.0      75.0\n"
          ]
        }
      ]
    },
    {
      "cell_type": "code",
      "source": [
        "# Seaborn ile Çizim\n",
        "plt.figure(figsize=(10, 6))\n",
        "sns.barplot(x='ogrenci', y='Ortalama', data=concatenated_df)\n",
        "plt.title('Öğrenci Ortalama Notları')\n",
        "plt.xlabel('Öğrenci')\n",
        "plt.ylabel('Ortalama Not')\n",
        "plt.show()"
      ],
      "metadata": {
        "colab": {
          "base_uri": "https://localhost:8080/",
          "height": 568
        },
        "id": "p-aOUwmf9F3y",
        "outputId": "8397addd-5592-4c96-8358-4c4a9e33879c"
      },
      "execution_count": 120,
      "outputs": [
        {
          "output_type": "display_data",
          "data": {
            "text/plain": [
              "<Figure size 1000x600 with 1 Axes>"
            ],
            "image/png": "[encoded data removed]"
          },
          "metadata": {}
        }
      ]
    },
    {
      "cell_type": "code",
      "source": [
        "plt.figure(figsize=(10, 6))\n",
        "plt.scatter(concatenated_df['Matematik'], concatenated_df['Fizik'])\n",
        "plt.title('Matematik ve Fizik not dağılımı')\n",
        "plt.xlabel('Matematik')\n",
        "plt.ylabel('Fizik')\n",
        "plt.grid(True)\n",
        "plt.show()"
      ],
      "metadata": {
        "colab": {
          "base_uri": "https://localhost:8080/",
          "height": 564
        },
        "id": "hDoGz5789KFE",
        "outputId": "bbc7e30a-2f0f-451f-f37d-0427f8dde75a"
      },
      "execution_count": 121,
      "outputs": [
        {
          "output_type": "display_data",
          "data": {
            "text/plain": [
              "<Figure size 1000x600 with 1 Axes>"
            ],
            "image/png": "[encoded data removed]"
          },
          "metadata": {}
        }
      ]
    }
  ]
}