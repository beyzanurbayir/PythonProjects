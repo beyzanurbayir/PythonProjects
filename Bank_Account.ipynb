{
  "nbformat": 4,
  "nbformat_minor": 0,
  "metadata": {
    "colab": {
      "provenance": [],
      "authorship_tag": "ABX9TyMB8c5gK/mgnxj64FVA2F/d",
      "include_colab_link": true
    },
    "kernelspec": {
      "name": "python3",
      "display_name": "Python 3"
    },
    "language_info": {
      "name": "python"
    }
  },
  "cells": [
    {
      "cell_type": "markdown",
      "metadata": {
        "id": "view-in-github",
        "colab_type": "text"
      },
      "source": [
        "<a href=\"https://colab.research.google.com/github/beyzanurbayir/PythonProjects/blob/master/Bank_Account.ipynb\" target=\"_parent\"><img src=\"https://colab.research.google.com/assets/colab-badge.svg\" alt=\"Open In Colab\"/></a>"
      ]
    },
    {
      "cell_type": "markdown",
      "source": [
        "1) Bank Account Yönetimi:\n",
        "\n",
        "Bir BankAccount sınıfı oluşturun. Bu sınıfın özellikleri müşteri adı, hesap numarası ve bakiye olsun. Bu sınıfa para yatırma, para çekme ve bakiye sorgulama\n",
        "metotları ekleyin. Ardından, BankAccount sınıfından türeyen bir SavingsAccount sınıfı oluşturun."
      ],
      "metadata": {
        "id": "FM-n0fl7BuO8"
      }
    },
    {
      "cell_type": "code",
      "execution_count": null,
      "metadata": {
        "id": "KBaqkm_3yFxp"
      },
      "outputs": [],
      "source": [
        "class BankAccount:\n",
        "  def __init__(self,customerName, accountNumber,balance):\n",
        "    self.customerName = customerName\n",
        "    self.accountNumber = accountNumber\n",
        "    self.balance = balance\n",
        "\n",
        "  def Deposit(self, amount):\n",
        "    self.balance = self.balance + amount\n",
        "    return print(f\"Hesabınıza {amount} TL yatırılmıştır. Güncel bakiyeniz {self.balance} TL\")\n",
        "\n",
        "  def WithdrawMoney(self,amount):\n",
        "    if self.balance>=amount:\n",
        "      self.balance-=amount\n",
        "      return print(f\"Hesabınızdan {amount} TL çekilmiştir. Güncel bakiyeniz: {self.balance} TL\")\n",
        "    else:\n",
        "      return print(\"Hesabınızda yeterli bakiye bulunmamaktadır.\")\n",
        "\n",
        "  def BalanceInquiry(self):\n",
        "    return print(f\"Hesabınızda {self.balance} TL bulunmaktadır.\")"
      ]
    },
    {
      "cell_type": "code",
      "source": [
        "customer=BankAccount(\"Ali\",123456,1000)"
      ],
      "metadata": {
        "id": "_tfEb2VH1gLw"
      },
      "execution_count": null,
      "outputs": []
    },
    {
      "cell_type": "code",
      "source": [
        "customer.BalanceInquiry()"
      ],
      "metadata": {
        "colab": {
          "base_uri": "https://localhost:8080/"
        },
        "id": "ryKr02lM1_QD",
        "outputId": "a489017f-80b1-46f8-e42e-334edd4c6b7e"
      },
      "execution_count": null,
      "outputs": [
        {
          "output_type": "stream",
          "name": "stdout",
          "text": [
            "Hesabınızda 1000 TL bulunmaktadır.\n"
          ]
        }
      ]
    },
    {
      "cell_type": "code",
      "source": [
        "customer.Deposit(500)"
      ],
      "metadata": {
        "colab": {
          "base_uri": "https://localhost:8080/"
        },
        "id": "m0M1HceP2Kgk",
        "outputId": "4f886a53-341f-4f3f-c275-39c3581cb312"
      },
      "execution_count": null,
      "outputs": [
        {
          "output_type": "stream",
          "name": "stdout",
          "text": [
            "Hesabınıza 500 TL yatırılmıştır. Güncel bakiyeniz 1500 TL\n"
          ]
        }
      ]
    },
    {
      "cell_type": "code",
      "source": [
        "customer.WithdrawMoney(350)"
      ],
      "metadata": {
        "colab": {
          "base_uri": "https://localhost:8080/"
        },
        "id": "ThLvE32N2o4F",
        "outputId": "9a2abec0-0e70-4042-bc69-9182b817a267"
      },
      "execution_count": null,
      "outputs": [
        {
          "output_type": "stream",
          "name": "stdout",
          "text": [
            "Hesabınızdan 350 TL çekilmiştir. Güncel bakiyeniz: 1150 TL\n"
          ]
        }
      ]
    },
    {
      "cell_type": "code",
      "source": [
        "customer.WithdrawMoney(1150)"
      ],
      "metadata": {
        "colab": {
          "base_uri": "https://localhost:8080/"
        },
        "id": "fvEKpBZn2vfk",
        "outputId": "88fb97ed-9df5-474e-f980-6a64f685b878"
      },
      "execution_count": null,
      "outputs": [
        {
          "output_type": "stream",
          "name": "stdout",
          "text": [
            "Hesabınızdan 1150 TL çekilmiştir. Güncel bakiyeniz: 0 TL\n"
          ]
        }
      ]
    },
    {
      "cell_type": "code",
      "source": [
        "customer.Deposit(1000)"
      ],
      "metadata": {
        "colab": {
          "base_uri": "https://localhost:8080/"
        },
        "id": "h5nc7ywt22qg",
        "outputId": "c4d13008-bb1e-4185-e633-347a0597cee0"
      },
      "execution_count": null,
      "outputs": [
        {
          "output_type": "stream",
          "name": "stdout",
          "text": [
            "Hesabınıza 1000 TL yatırılmıştır. Güncel bakiyeniz 1000 TL\n"
          ]
        }
      ]
    },
    {
      "cell_type": "code",
      "source": [
        "customer.WithdrawMoney(1550)"
      ],
      "metadata": {
        "colab": {
          "base_uri": "https://localhost:8080/"
        },
        "id": "1rLTMCGF2_Fe",
        "outputId": "b88b6bc6-4382-4623-a30d-c6b15158790a"
      },
      "execution_count": null,
      "outputs": [
        {
          "output_type": "stream",
          "name": "stdout",
          "text": [
            "Hesabınızda yeterli bakiye bulunmamaktadır.\n"
          ]
        }
      ]
    },
    {
      "cell_type": "code",
      "source": [
        "class SavingsAccount(BankAccount):\n",
        "  def __init__(self,customerName,accountName,balance,interestRate):\n",
        "    super().__init__(customerName,accountName,balance)\n",
        "    self.interestRate= interestRate\n",
        "\n",
        "  def calculate_interest(self, year):\n",
        "        if year < 1:\n",
        "            print(\"Faiz hesaplanabilmesi için en az 1 yıl doldurulmalıdır!\")\n",
        "        elif 1 <= year <= 3:\n",
        "            print(f\"Güncel bakiyeniz: {self.balance * self.interestRate * 2} TL\")\n",
        "        elif 3 < year <= 5:\n",
        "            print(f\"Güncel bakiyeniz: {self.balance * self.interestRate * 3} TL\")\n",
        "        elif year > 5:\n",
        "            print(f\"Güncel bakiyeniz: {self.balance * self.interestRate * 4} TL\")\n",
        "        else:\n",
        "            print(\"Geçersiz giriş\")\n",
        "\n"
      ],
      "metadata": {
        "id": "JOdnAcGh3V-6"
      },
      "execution_count": null,
      "outputs": []
    },
    {
      "cell_type": "code",
      "source": [
        "interestAccount=SavingsAccount(\"Ali\",\"123456\",1000,2)"
      ],
      "metadata": {
        "id": "-RrFUm7H6y5J"
      },
      "execution_count": null,
      "outputs": []
    },
    {
      "cell_type": "code",
      "source": [
        "interestAccount.calculate_interest(2)"
      ],
      "metadata": {
        "colab": {
          "base_uri": "https://localhost:8080/"
        },
        "id": "oofISnvY7MW1",
        "outputId": "2814a63c-48e9-4bc2-a06d-e816b5c3c1c2"
      },
      "execution_count": null,
      "outputs": [
        {
          "output_type": "stream",
          "name": "stdout",
          "text": [
            "Güncel bakiyeniz: 4000 TL\n"
          ]
        }
      ]
    },
    {
      "cell_type": "code",
      "source": [
        "interestAccount.calculate_interest(0)"
      ],
      "metadata": {
        "colab": {
          "base_uri": "https://localhost:8080/"
        },
        "id": "PyeVLMfV7jkF",
        "outputId": "dc8d1458-d224-4599-97b9-93742c57e70f"
      },
      "execution_count": null,
      "outputs": [
        {
          "output_type": "stream",
          "name": "stdout",
          "text": [
            "Faiz hesaplanabilmesi için en az 1 yıl doldurulmalıdır!\n"
          ]
        }
      ]
    },
    {
      "cell_type": "code",
      "source": [
        "interestAccount.calculate_interest(7)"
      ],
      "metadata": {
        "colab": {
          "base_uri": "https://localhost:8080/"
        },
        "id": "mI1isoeu7oYy",
        "outputId": "0943bb8f-fdb0-4399-bfa7-71de44c51de3"
      },
      "execution_count": null,
      "outputs": [
        {
          "output_type": "stream",
          "name": "stdout",
          "text": [
            "Güncel bakiyeniz: 8000 TL\n"
          ]
        }
      ]
    }
  ]
}