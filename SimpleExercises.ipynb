{
  "nbformat": 4,
  "nbformat_minor": 0,
  "metadata": {
    "colab": {
      "provenance": [],
      "authorship_tag": "ABX9TyNtGQwcqNlosA0YXgwY0Ycu",
      "include_colab_link": true
    },
    "kernelspec": {
      "name": "python3",
      "display_name": "Python 3"
    },
    "language_info": {
      "name": "python"
    }
  },
  "cells": [
    {
      "cell_type": "markdown",
      "metadata": {
        "id": "view-in-github",
        "colab_type": "text"
      },
      "source": [
        "<a href=\"https://colab.research.google.com/github/beyzanurbayir/PythonProjects/blob/master/SimpleExercises.ipynb\" target=\"_parent\"><img src=\"https://colab.research.google.com/assets/colab-badge.svg\" alt=\"Open In Colab\"/></a>"
      ]
    },
    {
      "cell_type": "markdown",
      "source": [
        "# HATA İŞLEME\n",
        "Kullanıcıdan  bir sayı girmesi istenecektir ve girilen bu sayının karesi hesaplanacaktır. Eğer kullanıcı geçerli bir sayı girmezse ekrana hata mesajı verilecektir."
      ],
      "metadata": {
        "id": "kdL_n7omwvDg"
      }
    },
    {
      "cell_type": "code",
      "execution_count": 3,
      "metadata": {
        "colab": {
          "base_uri": "https://localhost:8080/"
        },
        "id": "i4F8m_pgwCh6",
        "outputId": "9f28aadd-8479-4dbc-8c2d-68fcf8b74581"
      },
      "outputs": [
        {
          "output_type": "stream",
          "name": "stdout",
          "text": [
            "Bir sayı giriniz: -9\n",
            "Girdiğiniz sayının karesi:  81\n"
          ]
        }
      ],
      "source": [
        "try:\n",
        "  sayi= int(input(\"Bir sayı giriniz: \"))\n",
        "  print(\"Girdiğiniz sayının karesi: \", sayi**2)\n",
        "except:\n",
        "  print(\"Geçerli bir sayı giriniz\")\n"
      ]
    },
    {
      "cell_type": "markdown",
      "source": [
        "# LAMBDA FONKSİYONU\n",
        "Bir liste içerisindeki elemanları 5 ile çarpan fonksiyonun kodu"
      ],
      "metadata": {
        "id": "hfqBesXGx56S"
      }
    },
    {
      "cell_type": "code",
      "source": [
        "numbers=[1,7,13,6,9]\n",
        "result=list(map(lambda x:x*5,numbers))\n",
        "print(result)"
      ],
      "metadata": {
        "colab": {
          "base_uri": "https://localhost:8080/"
        },
        "id": "dOzhqxufySj-",
        "outputId": "144bf139-b8be-4729-f1ea-8d3e1888be18"
      },
      "execution_count": 4,
      "outputs": [
        {
          "output_type": "stream",
          "name": "stdout",
          "text": [
            "[5, 35, 65, 30, 45]\n"
          ]
        }
      ]
    },
    {
      "cell_type": "markdown",
      "source": [
        "# DOSYA İŞLEMLERİ\n",
        "İlk aşamada bir metin dosyası oluşturulacak. Sonrasında oluşturulan bu metin dosyasının içerisine yazı yazılacak. En sonda da bu yazılan yazı okunacak."
      ],
      "metadata": {
        "id": "5a3Y78QYzgeJ"
      }
    },
    {
      "cell_type": "code",
      "source": [
        "dosya_adi ='ornekDosya.txt'\n",
        "\n",
        "with open(dosya_adi,'w') as dosya:\n",
        "  pass\n",
        "\n",
        "print(f\"{dosya_adi} adlı dosya oluşturuldu.\")"
      ],
      "metadata": {
        "colab": {
          "base_uri": "https://localhost:8080/"
        },
        "id": "1ukMve6xzscP",
        "outputId": "d2e7e9d0-3602-4b34-d1ac-24101682724b"
      },
      "execution_count": 20,
      "outputs": [
        {
          "output_type": "stream",
          "name": "stdout",
          "text": [
            "ornekDosya.txt adlı dosya oluşturuldu.\n"
          ]
        }
      ]
    },
    {
      "cell_type": "code",
      "source": [
        "with open(dosya_adi,'a') as dosya:\n",
        "  dosya.write(\"Merhaba Dünya\")\n",
        "\n",
        "print(\"Metin dosyasına yazıldı\")"
      ],
      "metadata": {
        "colab": {
          "base_uri": "https://localhost:8080/"
        },
        "id": "FZdTDrqH1d6v",
        "outputId": "ff9c436d-951f-4c63-e97a-ea5152773b8f"
      },
      "execution_count": 21,
      "outputs": [
        {
          "output_type": "stream",
          "name": "stdout",
          "text": [
            "Metin dosyasına yazıldı\n"
          ]
        }
      ]
    },
    {
      "cell_type": "code",
      "source": [
        "with open(dosya_adi,'r') as dosya:\n",
        "  print(dosya.read())"
      ],
      "metadata": {
        "colab": {
          "base_uri": "https://localhost:8080/"
        },
        "id": "qaNsoZEb2U9O",
        "outputId": "90653bfd-0cf6-4051-fbb8-d4cbf8ec51a4"
      },
      "execution_count": 22,
      "outputs": [
        {
          "output_type": "stream",
          "name": "stdout",
          "text": [
            "Merhaba Dünya\n"
          ]
        }
      ]
    }
  ]
}