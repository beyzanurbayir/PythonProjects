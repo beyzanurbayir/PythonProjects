{
  "nbformat": 4,
  "nbformat_minor": 0,
  "metadata": {
    "colab": {
      "provenance": [],
      "authorship_tag": "ABX9TyNxV08AbNjOJMTTx/dUed/8",
      "include_colab_link": true
    },
    "kernelspec": {
      "name": "python3",
      "display_name": "Python 3"
    },
    "language_info": {
      "name": "python"
    }
  },
  "cells": [
    {
      "cell_type": "markdown",
      "metadata": {
        "id": "view-in-github",
        "colab_type": "text"
      },
      "source": [
        "<a href=\"https://colab.research.google.com/github/beyzanurbayir/PythonProjects/blob/master/LibraryManagement.ipynb\" target=\"_parent\"><img src=\"https://colab.research.google.com/assets/colab-badge.svg\" alt=\"Open In Colab\"/></a>"
      ]
    },
    {
      "cell_type": "code",
      "execution_count": null,
      "metadata": {
        "id": "AfdN7m73EJK7"
      },
      "outputs": [],
      "source": [
        "class Book:\n",
        "    def __init__(self, name, writer, ISBN, borrowed=False):\n",
        "        self.name = name\n",
        "        self.writer = writer\n",
        "        self.ISBN = ISBN\n",
        "        self.borrowed = borrowed\n",
        "\n",
        "    def borrowing(self):\n",
        "        if not self.borrowed:\n",
        "            self.borrowed = True\n",
        "            print(f\"'{self.name}' ödünç alındı.\")\n",
        "        else:\n",
        "            print(f\"'{self.name}' kitabı zaten ödünç alınmış.\")\n",
        "\n",
        "class Library:\n",
        "    def __init__(self):\n",
        "        self.books = []\n",
        "\n",
        "    def bookAdd(self, book):\n",
        "        self.books.append(book)\n",
        "        print(f\"'{book.name}' kütüphaneye eklendi.\")\n",
        "\n",
        "    def bookList(self,book):\n",
        "        print(self.liste)\n",
        "\n",
        "\n",
        "    def bookList(self):\n",
        "        if not self.books:\n",
        "            print(\"Kütüphanede kitap yok.\")\n",
        "        else:\n",
        "            for book in self.books:\n",
        "                print(f\"İsim: {book.name}, Yazar: {book.writer}, ISBN: {book.ISBN}, Ödünç: {'Evet' if book.borrowed else 'Hayır'}\")"
      ]
    },
    {
      "cell_type": "code",
      "source": [
        "kitap1 = Book(\"1984\", \"George Orwell\", \"1234567890\")\n",
        "kitap2 = Book(\"Savaş ve Barış\", \"Leo Tolstoy\", \"0987654321\")\n"
      ],
      "metadata": {
        "id": "fa5Zdts1JUp7"
      },
      "execution_count": null,
      "outputs": []
    },
    {
      "cell_type": "code",
      "source": [
        "kutuphane = Library()"
      ],
      "metadata": {
        "id": "NPz6zCKBJf-R"
      },
      "execution_count": null,
      "outputs": []
    },
    {
      "cell_type": "code",
      "source": [
        "kutuphane.bookAdd(kitap1)\n",
        "kutuphane.bookAdd(kitap2)"
      ],
      "metadata": {
        "colab": {
          "base_uri": "https://localhost:8080/"
        },
        "id": "rS-THhTvJ_C9",
        "outputId": "3ee4ff5d-bf2a-4f85-a79f-f40db2d86b76"
      },
      "execution_count": null,
      "outputs": [
        {
          "output_type": "stream",
          "name": "stdout",
          "text": [
            "'1984' kütüphaneye eklendi.\n",
            "'Savaş ve Barış' kütüphaneye eklendi.\n"
          ]
        }
      ]
    },
    {
      "cell_type": "code",
      "source": [
        "kutuphane.bookList()"
      ],
      "metadata": {
        "colab": {
          "base_uri": "https://localhost:8080/"
        },
        "id": "6IpthLG_KNw6",
        "outputId": "b07d4a43-02f4-48e0-8c81-e3fecbdcf181"
      },
      "execution_count": null,
      "outputs": [
        {
          "output_type": "stream",
          "name": "stdout",
          "text": [
            "İsim: 1984, Yazar: George Orwell, ISBN: 1234567890, Ödünç: Hayır\n",
            "İsim: Savaş ve Barış, Yazar: Leo Tolstoy, ISBN: 0987654321, Ödünç: Hayır\n"
          ]
        }
      ]
    },
    {
      "cell_type": "code",
      "source": [
        "kitap1.borrowing()"
      ],
      "metadata": {
        "colab": {
          "base_uri": "https://localhost:8080/"
        },
        "id": "sNHU6RwGKSni",
        "outputId": "1215cb2f-ddfb-4ef0-c6b3-9230a57f59b5"
      },
      "execution_count": null,
      "outputs": [
        {
          "output_type": "stream",
          "name": "stdout",
          "text": [
            "'1984' ödünç alındı.\n"
          ]
        }
      ]
    },
    {
      "cell_type": "code",
      "source": [
        "kutuphane.bookList()"
      ],
      "metadata": {
        "colab": {
          "base_uri": "https://localhost:8080/"
        },
        "id": "ISxvFNt_KV4L",
        "outputId": "ae9d6cdb-ce9d-46fb-e920-88b12eb908aa"
      },
      "execution_count": null,
      "outputs": [
        {
          "output_type": "stream",
          "name": "stdout",
          "text": [
            "İsim: 1984, Yazar: George Orwell, ISBN: 1234567890, Ödünç: Evet\n",
            "İsim: Savaş ve Barış, Yazar: Leo Tolstoy, ISBN: 0987654321, Ödünç: Hayır\n"
          ]
        }
      ]
    },
    {
      "cell_type": "code",
      "source": [
        "kitap1.borrowing()"
      ],
      "metadata": {
        "id": "Ii4p9Z17KZnS",
        "outputId": "3211c129-6897-4851-c183-8b9345cdae9b",
        "colab": {
          "base_uri": "https://localhost:8080/"
        }
      },
      "execution_count": null,
      "outputs": [
        {
          "output_type": "stream",
          "name": "stdout",
          "text": [
            "'1984' kitabı zaten ödünç alınmış.\n"
          ]
        }
      ]
    }
  ]
}